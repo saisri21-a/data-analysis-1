{
 "cells": [
  {
   "cell_type": "markdown",
   "id": "45a81ac5-2897-4610-a687-0b9525fe42ed",
   "metadata": {},
   "source": [
    "# TITLE OF THE PROJECT: "
   ]
  },
  {
   "cell_type": "markdown",
   "id": "12e49d09-3d40-418a-aba5-ca1cf19bd950",
   "metadata": {},
   "source": [
    "# Predicting Employee Salary Based on Experience"
   ]
  },
  {
   "cell_type": "markdown",
   "id": "4b165499-a986-4abd-a0ca-01953dfa6730",
   "metadata": {
    "tags": []
   },
   "source": [
    "# Objective:\n",
    "\n",
    "*The objective of this analysis is to build a predictive model that can accurately forecast an employee’s salary based on their years of experience. \n",
    "This model will help in understanding the salary trends related to experience and assist companies in establishing fair compensation practices.*\n"
   ]
  },
  {
   "cell_type": "markdown",
   "id": "43088933",
   "metadata": {},
   "source": [
    "# dataset:-"
   ]
  },
  {
   "cell_type": "code",
   "execution_count": null,
   "id": "4ed9d375",
   "metadata": {},
   "outputs": [],
   "source": [
    "The dataset consists of 2 columns:\n",
    "    1)salary:-salary of the employee\n",
    "    2)experience years:-the years of experience "
   ]
  },
  {
   "cell_type": "code",
   "execution_count": null,
   "id": "0d059fc2",
   "metadata": {},
   "outputs": [],
   "source": [
    "# importing the libraries and perform the actions for accurate output.."
   ]
  },
  {
   "cell_type": "code",
   "execution_count": 1,
   "id": "b87c2346-3873-433e-a78c-bd108739c36d",
   "metadata": {},
   "outputs": [
    {
     "data": {
      "text/html": [
       "<div>\n",
       "<style scoped>\n",
       "    .dataframe tbody tr th:only-of-type {\n",
       "        vertical-align: middle;\n",
       "    }\n",
       "\n",
       "    .dataframe tbody tr th {\n",
       "        vertical-align: top;\n",
       "    }\n",
       "\n",
       "    .dataframe thead th {\n",
       "        text-align: right;\n",
       "    }\n",
       "</style>\n",
       "<table border=\"1\" class=\"dataframe\">\n",
       "  <thead>\n",
       "    <tr style=\"text-align: right;\">\n",
       "      <th></th>\n",
       "      <th>Experience Years</th>\n",
       "      <th>Salary</th>\n",
       "    </tr>\n",
       "  </thead>\n",
       "  <tbody>\n",
       "    <tr>\n",
       "      <th>0</th>\n",
       "      <td>1.1</td>\n",
       "      <td>39343</td>\n",
       "    </tr>\n",
       "    <tr>\n",
       "      <th>1</th>\n",
       "      <td>1.2</td>\n",
       "      <td>42774</td>\n",
       "    </tr>\n",
       "    <tr>\n",
       "      <th>2</th>\n",
       "      <td>1.3</td>\n",
       "      <td>46205</td>\n",
       "    </tr>\n",
       "    <tr>\n",
       "      <th>3</th>\n",
       "      <td>1.5</td>\n",
       "      <td>37731</td>\n",
       "    </tr>\n",
       "    <tr>\n",
       "      <th>4</th>\n",
       "      <td>2.0</td>\n",
       "      <td>43525</td>\n",
       "    </tr>\n",
       "    <tr>\n",
       "      <th>5</th>\n",
       "      <td>2.2</td>\n",
       "      <td>39891</td>\n",
       "    </tr>\n",
       "    <tr>\n",
       "      <th>6</th>\n",
       "      <td>2.5</td>\n",
       "      <td>48266</td>\n",
       "    </tr>\n",
       "    <tr>\n",
       "      <th>7</th>\n",
       "      <td>2.9</td>\n",
       "      <td>56642</td>\n",
       "    </tr>\n",
       "    <tr>\n",
       "      <th>8</th>\n",
       "      <td>3.0</td>\n",
       "      <td>60150</td>\n",
       "    </tr>\n",
       "    <tr>\n",
       "      <th>9</th>\n",
       "      <td>3.2</td>\n",
       "      <td>54445</td>\n",
       "    </tr>\n",
       "    <tr>\n",
       "      <th>10</th>\n",
       "      <td>3.2</td>\n",
       "      <td>64445</td>\n",
       "    </tr>\n",
       "    <tr>\n",
       "      <th>11</th>\n",
       "      <td>3.5</td>\n",
       "      <td>60000</td>\n",
       "    </tr>\n",
       "    <tr>\n",
       "      <th>12</th>\n",
       "      <td>3.7</td>\n",
       "      <td>57189</td>\n",
       "    </tr>\n",
       "    <tr>\n",
       "      <th>13</th>\n",
       "      <td>3.8</td>\n",
       "      <td>60200</td>\n",
       "    </tr>\n",
       "    <tr>\n",
       "      <th>14</th>\n",
       "      <td>3.9</td>\n",
       "      <td>63218</td>\n",
       "    </tr>\n",
       "    <tr>\n",
       "      <th>15</th>\n",
       "      <td>4.0</td>\n",
       "      <td>55794</td>\n",
       "    </tr>\n",
       "    <tr>\n",
       "      <th>16</th>\n",
       "      <td>4.0</td>\n",
       "      <td>56957</td>\n",
       "    </tr>\n",
       "    <tr>\n",
       "      <th>17</th>\n",
       "      <td>4.1</td>\n",
       "      <td>57081</td>\n",
       "    </tr>\n",
       "    <tr>\n",
       "      <th>18</th>\n",
       "      <td>4.3</td>\n",
       "      <td>59095</td>\n",
       "    </tr>\n",
       "    <tr>\n",
       "      <th>19</th>\n",
       "      <td>4.5</td>\n",
       "      <td>61111</td>\n",
       "    </tr>\n",
       "    <tr>\n",
       "      <th>20</th>\n",
       "      <td>4.7</td>\n",
       "      <td>64500</td>\n",
       "    </tr>\n",
       "    <tr>\n",
       "      <th>21</th>\n",
       "      <td>4.9</td>\n",
       "      <td>67938</td>\n",
       "    </tr>\n",
       "    <tr>\n",
       "      <th>22</th>\n",
       "      <td>5.1</td>\n",
       "      <td>66029</td>\n",
       "    </tr>\n",
       "    <tr>\n",
       "      <th>23</th>\n",
       "      <td>5.3</td>\n",
       "      <td>83088</td>\n",
       "    </tr>\n",
       "    <tr>\n",
       "      <th>24</th>\n",
       "      <td>5.5</td>\n",
       "      <td>82200</td>\n",
       "    </tr>\n",
       "    <tr>\n",
       "      <th>25</th>\n",
       "      <td>5.9</td>\n",
       "      <td>81363</td>\n",
       "    </tr>\n",
       "    <tr>\n",
       "      <th>26</th>\n",
       "      <td>6.0</td>\n",
       "      <td>93940</td>\n",
       "    </tr>\n",
       "    <tr>\n",
       "      <th>27</th>\n",
       "      <td>6.2</td>\n",
       "      <td>91000</td>\n",
       "    </tr>\n",
       "    <tr>\n",
       "      <th>28</th>\n",
       "      <td>6.5</td>\n",
       "      <td>90000</td>\n",
       "    </tr>\n",
       "    <tr>\n",
       "      <th>29</th>\n",
       "      <td>6.8</td>\n",
       "      <td>91738</td>\n",
       "    </tr>\n",
       "    <tr>\n",
       "      <th>30</th>\n",
       "      <td>7.1</td>\n",
       "      <td>98273</td>\n",
       "    </tr>\n",
       "    <tr>\n",
       "      <th>31</th>\n",
       "      <td>7.9</td>\n",
       "      <td>101302</td>\n",
       "    </tr>\n",
       "    <tr>\n",
       "      <th>32</th>\n",
       "      <td>8.2</td>\n",
       "      <td>113812</td>\n",
       "    </tr>\n",
       "    <tr>\n",
       "      <th>33</th>\n",
       "      <td>8.5</td>\n",
       "      <td>111620</td>\n",
       "    </tr>\n",
       "    <tr>\n",
       "      <th>34</th>\n",
       "      <td>8.7</td>\n",
       "      <td>109431</td>\n",
       "    </tr>\n",
       "    <tr>\n",
       "      <th>35</th>\n",
       "      <td>9.0</td>\n",
       "      <td>105582</td>\n",
       "    </tr>\n",
       "    <tr>\n",
       "      <th>36</th>\n",
       "      <td>9.5</td>\n",
       "      <td>116969</td>\n",
       "    </tr>\n",
       "    <tr>\n",
       "      <th>37</th>\n",
       "      <td>9.6</td>\n",
       "      <td>112635</td>\n",
       "    </tr>\n",
       "    <tr>\n",
       "      <th>38</th>\n",
       "      <td>10.3</td>\n",
       "      <td>122391</td>\n",
       "    </tr>\n",
       "    <tr>\n",
       "      <th>39</th>\n",
       "      <td>10.5</td>\n",
       "      <td>121872</td>\n",
       "    </tr>\n",
       "  </tbody>\n",
       "</table>\n",
       "</div>"
      ],
      "text/plain": [
       "    Experience Years  Salary\n",
       "0                1.1   39343\n",
       "1                1.2   42774\n",
       "2                1.3   46205\n",
       "3                1.5   37731\n",
       "4                2.0   43525\n",
       "5                2.2   39891\n",
       "6                2.5   48266\n",
       "7                2.9   56642\n",
       "8                3.0   60150\n",
       "9                3.2   54445\n",
       "10               3.2   64445\n",
       "11               3.5   60000\n",
       "12               3.7   57189\n",
       "13               3.8   60200\n",
       "14               3.9   63218\n",
       "15               4.0   55794\n",
       "16               4.0   56957\n",
       "17               4.1   57081\n",
       "18               4.3   59095\n",
       "19               4.5   61111\n",
       "20               4.7   64500\n",
       "21               4.9   67938\n",
       "22               5.1   66029\n",
       "23               5.3   83088\n",
       "24               5.5   82200\n",
       "25               5.9   81363\n",
       "26               6.0   93940\n",
       "27               6.2   91000\n",
       "28               6.5   90000\n",
       "29               6.8   91738\n",
       "30               7.1   98273\n",
       "31               7.9  101302\n",
       "32               8.2  113812\n",
       "33               8.5  111620\n",
       "34               8.7  109431\n",
       "35               9.0  105582\n",
       "36               9.5  116969\n",
       "37               9.6  112635\n",
       "38              10.3  122391\n",
       "39              10.5  121872"
      ]
     },
     "execution_count": 1,
     "metadata": {},
     "output_type": "execute_result"
    }
   ],
   "source": [
    "import pandas as pd\n",
    "import numpy as np\n",
    "import seaborn as sns\n",
    "w=pd.read_csv(\"salary_exp.csv\")\n",
    "w"
   ]
  },
  {
   "cell_type": "markdown",
   "id": "ec96ae1e-6cdc-4dfa-a383-4fafe131ab07",
   "metadata": {},
   "source": [
    "# Peer to peer:-"
   ]
  },
  {
   "cell_type": "markdown",
   "id": "53bdd229-a798-4df6-9b46-938f5a07e0c9",
   "metadata": {},
   "source": [
    "In above dataset there are salary and years columns so we want the average salary were taken by the expected year..\n",
    "2)Here are some operations we can perform on the dataset using DATA VISUALIZATION and perform tasks for prediction of output..\n",
    "3)after the analysis identify the type of data and expected outcomes based on those which type of tools is used for prediction \n",
    "analysis and performing by using machine learning.\n"
   ]
  },
  {
   "cell_type": "markdown",
   "id": "30261f0e-213e-40e2-9bc6-72216afb09b8",
   "metadata": {},
   "source": [
    "# data visualization"
   ]
  },
  {
   "cell_type": "markdown",
   "id": "5a75e579",
   "metadata": {},
   "source": [
    "# barplot:-"
   ]
  },
  {
   "cell_type": "code",
   "execution_count": null,
   "id": "edddcd2c",
   "metadata": {},
   "outputs": [],
   "source": [
    "#Barplots use the mean to measure the center of a data set, which is represented by the height of the bar.\n",
    "#Here salary is given to y axis..."
   ]
  },
  {
   "cell_type": "code",
   "execution_count": 9,
   "id": "34831b8e-9d78-48f1-a990-71e7024c41f1",
   "metadata": {},
   "outputs": [
    {
     "data": {
      "text/plain": [
       "<AxesSubplot:xlabel='Experience Years', ylabel='Salary'>"
      ]
     },
     "execution_count": 9,
     "metadata": {},
     "output_type": "execute_result"
    },
    {
     "data": {
      "image/png": "[encoded data removed]",
      "text/plain": [
       "<Figure size 640x480 with 1 Axes>"
      ]
     },
     "metadata": {},
     "output_type": "display_data"
    }
   ],
   "source": [
    "sns.barplot(data=w,x=\"Experience Years\",y=\"Salary\")"
   ]
  },
  {
   "cell_type": "markdown",
   "id": "fa27c214",
   "metadata": {},
   "source": [
    "# lineplot:-"
   ]
  },
  {
   "cell_type": "code",
   "execution_count": null,
   "id": "e0fc2e2c",
   "metadata": {},
   "outputs": [],
   "source": [
    "#A line plot, also called a dot plot, is a graph that shows the frequency, or the number of times, a value occurs in a data set..\n",
    "#here we take salary on x axis and experience year in y axis.. "
   ]
  },
  {
   "cell_type": "code",
   "execution_count": 10,
   "id": "1e602e31-d9ca-4322-bf36-decfe23208fd",
   "metadata": {},
   "outputs": [
    {
     "data": {
      "text/plain": [
       "<AxesSubplot:xlabel='Salary', ylabel='Experience Years'>"
      ]
     },
     "execution_count": 10,
     "metadata": {},
     "output_type": "execute_result"
    },
    {
     "data": {
      "image/png": "[encoded data removed]",
      "text/plain": [
       "<Figure size 640x480 with 1 Axes>"
      ]
     },
     "metadata": {},
     "output_type": "display_data"
    }
   ],
   "source": [
    "sns.lineplot(data=w,x=\"Salary\",y=\"Experience Years\")"
   ]
  },
  {
   "cell_type": "markdown",
   "id": "c54fb868",
   "metadata": {},
   "source": [
    "# histplot:-"
   ]
  },
  {
   "cell_type": "code",
   "execution_count": null,
   "id": "64e4869d",
   "metadata": {},
   "outputs": [],
   "source": [
    "#In a histogram a statistical graph that represents the distribution of a continuous dataset through plotted bars, \n",
    "#Each representing a particular category or classinterval... \n"
   ]
  },
  {
   "cell_type": "code",
   "execution_count": 14,
   "id": "617290a9-a9d1-4ffc-8f17-dbbe276ee0ad",
   "metadata": {},
   "outputs": [
    {
     "data": {
      "text/plain": [
       "<AxesSubplot:xlabel='Experience Years', ylabel='Count'>"
      ]
     },
     "execution_count": 14,
     "metadata": {},
     "output_type": "execute_result"
    },
    {
     "data": {
      "image/png": "[encoded data removed]",
      "text/plain": [
       "<Figure size 640x480 with 1 Axes>"
      ]
     },
     "metadata": {},
     "output_type": "display_data"
    }
   ],
   "source": [
    "sns.histplot(data=w,x=\"Experience Years\")"
   ]
  },
  {
   "cell_type": "markdown",
   "id": "d52e9bdd",
   "metadata": {},
   "source": [
    "# box plot:-"
   ]
  },
  {
   "cell_type": "code",
   "execution_count": null,
   "id": "c89e6af8",
   "metadata": {},
   "outputs": [],
   "source": [
    "#A box plot is a method for graphically depicting groups of numerical data through their quartiles. \n",
    "#ere hue is used for comparison of dataset and also called as vectors.."
   ]
  },
  {
   "cell_type": "code",
   "execution_count": 19,
   "id": "1c4b74bd-63d2-4dd1-966c-72edc5018df1",
   "metadata": {},
   "outputs": [
    {
     "data": {
      "text/plain": [
       "<AxesSubplot:xlabel='Salary'>"
      ]
     },
     "execution_count": 19,
     "metadata": {},
     "output_type": "execute_result"
    },
    {
     "data": {
      "image/png": "[encoded data removed]",
      "text/plain": [
       "<Figure size 640x480 with 1 Axes>"
      ]
     },
     "metadata": {},
     "output_type": "display_data"
    }
   ],
   "source": [
    "sns.boxplot(data=w,x=\"Salary\",hue=\"Experience Years\")"
   ]
  },
  {
   "cell_type": "markdown",
   "id": "cd6664b3",
   "metadata": {},
   "source": [
    "# displot \n"
   ]
  },
  {
   "cell_type": "code",
   "execution_count": null,
   "id": "54f174f0",
   "metadata": {},
   "outputs": [],
   "source": [
    "# In displot the data distribution of one variable will be shown against another variable.\n"
   ]
  },
  {
   "cell_type": "code",
   "execution_count": 25,
   "id": "5cf82c85-2bee-4b16-a8a9-21889b165011",
   "metadata": {},
   "outputs": [
    {
     "data": {
      "text/plain": [
       "<seaborn.axisgrid.FacetGrid at 0x1bae1e999d0>"
      ]
     },
     "execution_count": 25,
     "metadata": {},
     "output_type": "execute_result"
    },
    {
     "data": {
      "image/png": "[encoded data removed]",
      "text/plain": [
       "<Figure size 500x500 with 1 Axes>"
      ]
     },
     "metadata": {},
     "output_type": "display_data"
    }
   ],
   "source": [
    "import seaborn as sns\n",
    "sns.displot(data=w,x=\"Salary\",y=\"Experience Years\")"
   ]
  },
  {
   "cell_type": "markdown",
   "id": "4c59136d",
   "metadata": {},
   "source": [
    "# scatterplot"
   ]
  },
  {
   "cell_type": "code",
   "execution_count": null,
   "id": "9bdc7eef",
   "metadata": {},
   "outputs": [],
   "source": [
    "#In scatter plot it uses two numerical to predict output.."
   ]
  },
  {
   "cell_type": "code",
   "execution_count": 26,
   "id": "d57be6a9-5577-4227-ba4e-95b084ed7dcf",
   "metadata": {},
   "outputs": [
    {
     "data": {
      "text/plain": [
       "<AxesSubplot:xlabel='Salary', ylabel='Experience Years'>"
      ]
     },
     "execution_count": 26,
     "metadata": {},
     "output_type": "execute_result"
    },
    {
     "data": {
      "image/png": "[encoded data removed]",
      "text/plain": [
       "<Figure size 640x480 with 1 Axes>"
      ]
     },
     "metadata": {},
     "output_type": "display_data"
    }
   ],
   "source": [
    "sns.scatterplot(data=w,x=\"Salary\",y=\"Experience Years\")"
   ]
  },
  {
   "cell_type": "markdown",
   "id": "b5a3f853",
   "metadata": {},
   "source": [
    "# kdeplot:-"
   ]
  },
  {
   "cell_type": "code",
   "execution_count": null,
   "id": "1d05210b",
   "metadata": {},
   "outputs": [],
   "source": [
    "#In kdeplot visualizing the distribution of observations in a dataset..\n"
   ]
  },
  {
   "cell_type": "code",
   "execution_count": 30,
   "id": "d3f901df-07fc-470e-9194-3fcfad2df494",
   "metadata": {},
   "outputs": [
    {
     "data": {
      "text/plain": [
       "<AxesSubplot:xlabel='Experience Years', ylabel='Density'>"
      ]
     },
     "execution_count": 30,
     "metadata": {},
     "output_type": "execute_result"
    },
    {
     "data": {
      "image/png": "[encoded data removed]",
      "text/plain": [
       "<Figure size 640x480 with 1 Axes>"
      ]
     },
     "metadata": {},
     "output_type": "display_data"
    }
   ],
   "source": [
    "sns.kdeplot(data=w,x=\"Experience Years\")"
   ]
  },
  {
   "cell_type": "code",
   "execution_count": null,
   "id": "7e501f24-a7e5-4f1a-a538-4f3e87c38d58",
   "metadata": {},
   "outputs": [],
   "source": [
    "Here are some plots doesnt support and doesnt predict accurate output with detailed information..."
   ]
  },
  {
   "cell_type": "markdown",
   "id": "b958347b-425a-4563-a588-d1a6ef1571e1",
   "metadata": {},
   "source": [
    "# machine learning:-"
   ]
  },
  {
   "cell_type": "markdown",
   "id": "688b6d83",
   "metadata": {},
   "source": [
    "# summary:-"
   ]
  },
  {
   "cell_type": "code",
   "execution_count": null,
   "id": "0e23a2e1",
   "metadata": {},
   "outputs": [],
   "source": [
    "**In machine learning there are branch of artificial intelligence that focuses on the development of algorithms and statistical models t\n",
    "That can learn from and make predictions on data. \n",
    "Linear regression is a type of machine-learning algorithm, \n",
    "specifically a supervised machine-learning algorithm, that learns from labeled datasets\n",
    "and maps the data points to the most optimized linear functions.\n",
    "which can be used for prediction on new datasets ..**\n",
    ".\n"
   ]
  },
  {
   "cell_type": "markdown",
   "id": "526d70dd",
   "metadata": {},
   "source": [
    "# Aim of the project:="
   ]
  },
  {
   "cell_type": "code",
   "execution_count": null,
   "id": "51910db4-4f0a-43e4-a66e-2eaf59d4d5fa",
   "metadata": {},
   "outputs": [],
   "source": [
    "\n",
    "**The simple linear regression model aims to predict the salary of employed professionals based on their years of experience.\n",
    "2.It involves training a model to learn the correlation between the number of years of experience of each employee and their respective salary\n",
    "3.Analysis the data and perform the related tools used in machine learning.. \n",
    "4.After analysis it is a supervised learning which is a labelled data using linear regression tool used to predict for accurate output..**"
   ]
  },
  {
   "cell_type": "code",
   "execution_count": null,
   "id": "24716ed0",
   "metadata": {},
   "outputs": [],
   "source": [
    "# import the libraries and retrieve the data:-"
   ]
  },
  {
   "cell_type": "code",
   "execution_count": 31,
   "id": "b99e7384-0848-4af2-a101-c34fe1331715",
   "metadata": {},
   "outputs": [],
   "source": [
    "import matplotlib.pyplot as plt\n",
    "import pandas as pd\n",
    "import numpy as np"
   ]
  },
  {
   "cell_type": "code",
   "execution_count": 32,
   "id": "1abe7e70-527f-4500-b5dd-0b7b2990cc21",
   "metadata": {},
   "outputs": [
    {
     "data": {
      "text/html": [
       "<div>\n",
       "<style scoped>\n",
       "    .dataframe tbody tr th:only-of-type {\n",
       "        vertical-align: middle;\n",
       "    }\n",
       "\n",
       "    .dataframe tbody tr th {\n",
       "        vertical-align: top;\n",
       "    }\n",
       "\n",
       "    .dataframe thead th {\n",
       "        text-align: right;\n",
       "    }\n",
       "</style>\n",
       "<table border=\"1\" class=\"dataframe\">\n",
       "  <thead>\n",
       "    <tr style=\"text-align: right;\">\n",
       "      <th></th>\n",
       "      <th>Experience Years</th>\n",
       "      <th>Salary</th>\n",
       "    </tr>\n",
       "  </thead>\n",
       "  <tbody>\n",
       "    <tr>\n",
       "      <th>0</th>\n",
       "      <td>1.1</td>\n",
       "      <td>39343</td>\n",
       "    </tr>\n",
       "    <tr>\n",
       "      <th>1</th>\n",
       "      <td>1.2</td>\n",
       "      <td>42774</td>\n",
       "    </tr>\n",
       "    <tr>\n",
       "      <th>2</th>\n",
       "      <td>1.3</td>\n",
       "      <td>46205</td>\n",
       "    </tr>\n",
       "    <tr>\n",
       "      <th>3</th>\n",
       "      <td>1.5</td>\n",
       "      <td>37731</td>\n",
       "    </tr>\n",
       "    <tr>\n",
       "      <th>4</th>\n",
       "      <td>2.0</td>\n",
       "      <td>43525</td>\n",
       "    </tr>\n",
       "    <tr>\n",
       "      <th>5</th>\n",
       "      <td>2.2</td>\n",
       "      <td>39891</td>\n",
       "    </tr>\n",
       "    <tr>\n",
       "      <th>6</th>\n",
       "      <td>2.5</td>\n",
       "      <td>48266</td>\n",
       "    </tr>\n",
       "    <tr>\n",
       "      <th>7</th>\n",
       "      <td>2.9</td>\n",
       "      <td>56642</td>\n",
       "    </tr>\n",
       "    <tr>\n",
       "      <th>8</th>\n",
       "      <td>3.0</td>\n",
       "      <td>60150</td>\n",
       "    </tr>\n",
       "    <tr>\n",
       "      <th>9</th>\n",
       "      <td>3.2</td>\n",
       "      <td>54445</td>\n",
       "    </tr>\n",
       "    <tr>\n",
       "      <th>10</th>\n",
       "      <td>3.2</td>\n",
       "      <td>64445</td>\n",
       "    </tr>\n",
       "    <tr>\n",
       "      <th>11</th>\n",
       "      <td>3.5</td>\n",
       "      <td>60000</td>\n",
       "    </tr>\n",
       "    <tr>\n",
       "      <th>12</th>\n",
       "      <td>3.7</td>\n",
       "      <td>57189</td>\n",
       "    </tr>\n",
       "    <tr>\n",
       "      <th>13</th>\n",
       "      <td>3.8</td>\n",
       "      <td>60200</td>\n",
       "    </tr>\n",
       "    <tr>\n",
       "      <th>14</th>\n",
       "      <td>3.9</td>\n",
       "      <td>63218</td>\n",
       "    </tr>\n",
       "    <tr>\n",
       "      <th>15</th>\n",
       "      <td>4.0</td>\n",
       "      <td>55794</td>\n",
       "    </tr>\n",
       "    <tr>\n",
       "      <th>16</th>\n",
       "      <td>4.0</td>\n",
       "      <td>56957</td>\n",
       "    </tr>\n",
       "    <tr>\n",
       "      <th>17</th>\n",
       "      <td>4.1</td>\n",
       "      <td>57081</td>\n",
       "    </tr>\n",
       "    <tr>\n",
       "      <th>18</th>\n",
       "      <td>4.3</td>\n",
       "      <td>59095</td>\n",
       "    </tr>\n",
       "    <tr>\n",
       "      <th>19</th>\n",
       "      <td>4.5</td>\n",
       "      <td>61111</td>\n",
       "    </tr>\n",
       "    <tr>\n",
       "      <th>20</th>\n",
       "      <td>4.7</td>\n",
       "      <td>64500</td>\n",
       "    </tr>\n",
       "    <tr>\n",
       "      <th>21</th>\n",
       "      <td>4.9</td>\n",
       "      <td>67938</td>\n",
       "    </tr>\n",
       "    <tr>\n",
       "      <th>22</th>\n",
       "      <td>5.1</td>\n",
       "      <td>66029</td>\n",
       "    </tr>\n",
       "    <tr>\n",
       "      <th>23</th>\n",
       "      <td>5.3</td>\n",
       "      <td>83088</td>\n",
       "    </tr>\n",
       "    <tr>\n",
       "      <th>24</th>\n",
       "      <td>5.5</td>\n",
       "      <td>82200</td>\n",
       "    </tr>\n",
       "    <tr>\n",
       "      <th>25</th>\n",
       "      <td>5.9</td>\n",
       "      <td>81363</td>\n",
       "    </tr>\n",
       "    <tr>\n",
       "      <th>26</th>\n",
       "      <td>6.0</td>\n",
       "      <td>93940</td>\n",
       "    </tr>\n",
       "    <tr>\n",
       "      <th>27</th>\n",
       "      <td>6.2</td>\n",
       "      <td>91000</td>\n",
       "    </tr>\n",
       "    <tr>\n",
       "      <th>28</th>\n",
       "      <td>6.5</td>\n",
       "      <td>90000</td>\n",
       "    </tr>\n",
       "    <tr>\n",
       "      <th>29</th>\n",
       "      <td>6.8</td>\n",
       "      <td>91738</td>\n",
       "    </tr>\n",
       "    <tr>\n",
       "      <th>30</th>\n",
       "      <td>7.1</td>\n",
       "      <td>98273</td>\n",
       "    </tr>\n",
       "    <tr>\n",
       "      <th>31</th>\n",
       "      <td>7.9</td>\n",
       "      <td>101302</td>\n",
       "    </tr>\n",
       "    <tr>\n",
       "      <th>32</th>\n",
       "      <td>8.2</td>\n",
       "      <td>113812</td>\n",
       "    </tr>\n",
       "    <tr>\n",
       "      <th>33</th>\n",
       "      <td>8.5</td>\n",
       "      <td>111620</td>\n",
       "    </tr>\n",
       "    <tr>\n",
       "      <th>34</th>\n",
       "      <td>8.7</td>\n",
       "      <td>109431</td>\n",
       "    </tr>\n",
       "    <tr>\n",
       "      <th>35</th>\n",
       "      <td>9.0</td>\n",
       "      <td>105582</td>\n",
       "    </tr>\n",
       "    <tr>\n",
       "      <th>36</th>\n",
       "      <td>9.5</td>\n",
       "      <td>116969</td>\n",
       "    </tr>\n",
       "    <tr>\n",
       "      <th>37</th>\n",
       "      <td>9.6</td>\n",
       "      <td>112635</td>\n",
       "    </tr>\n",
       "    <tr>\n",
       "      <th>38</th>\n",
       "      <td>10.3</td>\n",
       "      <td>122391</td>\n",
       "    </tr>\n",
       "    <tr>\n",
       "      <th>39</th>\n",
       "      <td>10.5</td>\n",
       "      <td>121872</td>\n",
       "    </tr>\n",
       "  </tbody>\n",
       "</table>\n",
       "</div>"
      ],
      "text/plain": [
       "    Experience Years  Salary\n",
       "0                1.1   39343\n",
       "1                1.2   42774\n",
       "2                1.3   46205\n",
       "3                1.5   37731\n",
       "4                2.0   43525\n",
       "5                2.2   39891\n",
       "6                2.5   48266\n",
       "7                2.9   56642\n",
       "8                3.0   60150\n",
       "9                3.2   54445\n",
       "10               3.2   64445\n",
       "11               3.5   60000\n",
       "12               3.7   57189\n",
       "13               3.8   60200\n",
       "14               3.9   63218\n",
       "15               4.0   55794\n",
       "16               4.0   56957\n",
       "17               4.1   57081\n",
       "18               4.3   59095\n",
       "19               4.5   61111\n",
       "20               4.7   64500\n",
       "21               4.9   67938\n",
       "22               5.1   66029\n",
       "23               5.3   83088\n",
       "24               5.5   82200\n",
       "25               5.9   81363\n",
       "26               6.0   93940\n",
       "27               6.2   91000\n",
       "28               6.5   90000\n",
       "29               6.8   91738\n",
       "30               7.1   98273\n",
       "31               7.9  101302\n",
       "32               8.2  113812\n",
       "33               8.5  111620\n",
       "34               8.7  109431\n",
       "35               9.0  105582\n",
       "36               9.5  116969\n",
       "37               9.6  112635\n",
       "38              10.3  122391\n",
       "39              10.5  121872"
      ]
     },
     "execution_count": 32,
     "metadata": {},
     "output_type": "execute_result"
    }
   ],
   "source": [
    "m=pd.read_csv(\"Salary_exp.csv\")\n",
    "m"
   ]
  },
  {
   "cell_type": "code",
   "execution_count": 33,
   "id": "818b9093-abf6-497a-a4b1-18d08d7b4dfb",
   "metadata": {},
   "outputs": [
    {
     "data": {
      "text/plain": [
       "<bound method NDFrame.head of     Experience Years  Salary\n",
       "0                1.1   39343\n",
       "1                1.2   42774\n",
       "2                1.3   46205\n",
       "3                1.5   37731\n",
       "4                2.0   43525\n",
       "5                2.2   39891\n",
       "6                2.5   48266\n",
       "7                2.9   56642\n",
       "8                3.0   60150\n",
       "9                3.2   54445\n",
       "10               3.2   64445\n",
       "11               3.5   60000\n",
       "12               3.7   57189\n",
       "13               3.8   60200\n",
       "14               3.9   63218\n",
       "15               4.0   55794\n",
       "16               4.0   56957\n",
       "17               4.1   57081\n",
       "18               4.3   59095\n",
       "19               4.5   61111\n",
       "20               4.7   64500\n",
       "21               4.9   67938\n",
       "22               5.1   66029\n",
       "23               5.3   83088\n",
       "24               5.5   82200\n",
       "25               5.9   81363\n",
       "26               6.0   93940\n",
       "27               6.2   91000\n",
       "28               6.5   90000\n",
       "29               6.8   91738\n",
       "30               7.1   98273\n",
       "31               7.9  101302\n",
       "32               8.2  113812\n",
       "33               8.5  111620\n",
       "34               8.7  109431\n",
       "35               9.0  105582\n",
       "36               9.5  116969\n",
       "37               9.6  112635\n",
       "38              10.3  122391\n",
       "39              10.5  121872>"
      ]
     },
     "execution_count": 33,
     "metadata": {},
     "output_type": "execute_result"
    }
   ],
   "source": [
    "m.head"
   ]
  },
  {
   "cell_type": "code",
   "execution_count": 34,
   "id": "1c77a3c5-29d7-4de7-a9a9-8cde31849605",
   "metadata": {},
   "outputs": [
    {
     "data": {
      "text/html": [
       "<div>\n",
       "<style scoped>\n",
       "    .dataframe tbody tr th:only-of-type {\n",
       "        vertical-align: middle;\n",
       "    }\n",
       "\n",
       "    .dataframe tbody tr th {\n",
       "        vertical-align: top;\n",
       "    }\n",
       "\n",
       "    .dataframe thead th {\n",
       "        text-align: right;\n",
       "    }\n",
       "</style>\n",
       "<table border=\"1\" class=\"dataframe\">\n",
       "  <thead>\n",
       "    <tr style=\"text-align: right;\">\n",
       "      <th></th>\n",
       "      <th>Experience Years</th>\n",
       "      <th>Salary</th>\n",
       "    </tr>\n",
       "  </thead>\n",
       "  <tbody>\n",
       "    <tr>\n",
       "      <th>Experience Years</th>\n",
       "      <td>1.000000</td>\n",
       "      <td>0.977692</td>\n",
       "    </tr>\n",
       "    <tr>\n",
       "      <th>Salary</th>\n",
       "      <td>0.977692</td>\n",
       "      <td>1.000000</td>\n",
       "    </tr>\n",
       "  </tbody>\n",
       "</table>\n",
       "</div>"
      ],
      "text/plain": [
       "                  Experience Years    Salary\n",
       "Experience Years          1.000000  0.977692\n",
       "Salary                    0.977692  1.000000"
      ]
     },
     "execution_count": 34,
     "metadata": {},
     "output_type": "execute_result"
    }
   ],
   "source": [
    "m.corr()"
   ]
  },
  {
   "cell_type": "code",
   "execution_count": null,
   "id": "0ee392fa-0c2e-4960-bcd9-7084bb80a351",
   "metadata": {},
   "outputs": [],
   "source": [
    "# In above it defines the correlation of data"
   ]
  },
  {
   "cell_type": "markdown",
   "id": "c6119226-6266-487e-b19b-5f2ebf49686a",
   "metadata": {},
   "source": [
    "# data visualization"
   ]
  },
  {
   "cell_type": "code",
   "execution_count": null,
   "id": "b4e492a4-8d3c-441f-b3fe-433690b05793",
   "metadata": {},
   "outputs": [],
   "source": [
    "# In scatterplot we used esperience years as xlabel and salary as ylabel"
   ]
  },
  {
   "cell_type": "code",
   "execution_count": 36,
   "id": "b2d1cd3d-ddaa-45ab-83a6-5c0d90580cd5",
   "metadata": {},
   "outputs": [
    {
     "data": {
      "text/plain": [
       "Text(0, 0.5, 'Salary')"
      ]
     },
     "execution_count": 36,
     "metadata": {},
     "output_type": "execute_result"
    },
    {
     "data": {
      "image/png": "[encoded data removed]",
      "text/plain": [
       "<Figure size 640x480 with 1 Axes>"
      ]
     },
     "metadata": {},
     "output_type": "display_data"
    }
   ],
   "source": [
    "plt.scatter(m[\"Experience Years\"],m[\"Salary\"])\n",
    "plt.xlabel(\"Experience Years\")\n",
    "plt.ylabel(\"Salary\")"
   ]
  },
  {
   "cell_type": "markdown",
   "id": "bfcdb239-dcf0-462d-85cb-701e2b4b713a",
   "metadata": {},
   "source": [
    "# iloc():-"
   ]
  },
  {
   "cell_type": "code",
   "execution_count": null,
   "id": "49c91a84-3ca1-4e26-8154-c1980d5f4fdf",
   "metadata": {},
   "outputs": [],
   "source": [
    "**In machine learning, \n",
    "iloc is a method used in the pandas library, which is a popular data manipulation and analysis tool in Python.\n",
    "This method is used to select rows and columns by integer position.**\n"
   ]
  },
  {
   "cell_type": "code",
   "execution_count": 61,
   "id": "4ebcec77-b8eb-41e7-89c1-23c448edc54e",
   "metadata": {},
   "outputs": [
    {
     "data": {
      "text/html": [
       "<div>\n",
       "<style scoped>\n",
       "    .dataframe tbody tr th:only-of-type {\n",
       "        vertical-align: middle;\n",
       "    }\n",
       "\n",
       "    .dataframe tbody tr th {\n",
       "        vertical-align: top;\n",
       "    }\n",
       "\n",
       "    .dataframe thead th {\n",
       "        text-align: right;\n",
       "    }\n",
       "</style>\n",
       "<table border=\"1\" class=\"dataframe\">\n",
       "  <thead>\n",
       "    <tr style=\"text-align: right;\">\n",
       "      <th></th>\n",
       "      <th>Experience Years</th>\n",
       "      <th>Salary</th>\n",
       "    </tr>\n",
       "  </thead>\n",
       "  <tbody>\n",
       "    <tr>\n",
       "      <th>0</th>\n",
       "      <td>1.1</td>\n",
       "      <td>39343</td>\n",
       "    </tr>\n",
       "  </tbody>\n",
       "</table>\n",
       "</div>"
      ],
      "text/plain": [
       "   Experience Years  Salary\n",
       "0               1.1   39343"
      ]
     },
     "execution_count": 61,
     "metadata": {},
     "output_type": "execute_result"
    }
   ],
   "source": [
    "x=m.iloc[0:1]\n",
    "y=m.iloc[0:-1]\n",
    "x"
   ]
  },
  {
   "cell_type": "code",
   "execution_count": null,
   "id": "2c16bcad",
   "metadata": {},
   "outputs": [],
   "source": [
    "#In above we perform slicing first index of row and first index of column:"
   ]
  },
  {
   "cell_type": "code",
   "execution_count": 43,
   "id": "fe0d909b-7e58-4924-bd80-d9d9e1935617",
   "metadata": {},
   "outputs": [
    {
     "data": {
      "text/plain": [
       "0      39343\n",
       "1      42774\n",
       "2      46205\n",
       "3      37731\n",
       "4      43525\n",
       "5      39891\n",
       "6      48266\n",
       "7      56642\n",
       "8      60150\n",
       "9      54445\n",
       "10     64445\n",
       "11     60000\n",
       "12     57189\n",
       "13     60200\n",
       "14     63218\n",
       "15     55794\n",
       "16     56957\n",
       "17     57081\n",
       "18     59095\n",
       "19     61111\n",
       "20     64500\n",
       "21     67938\n",
       "22     66029\n",
       "23     83088\n",
       "24     82200\n",
       "25     81363\n",
       "26     93940\n",
       "27     91000\n",
       "28     90000\n",
       "29     91738\n",
       "30     98273\n",
       "31    101302\n",
       "32    113812\n",
       "33    111620\n",
       "34    109431\n",
       "35    105582\n",
       "36    116969\n",
       "37    112635\n",
       "38    122391\n",
       "39    121872\n",
       "Name: Salary, dtype: int64"
      ]
     },
     "execution_count": 43,
     "metadata": {},
     "output_type": "execute_result"
    }
   ],
   "source": [
    "y"
   ]
  },
  {
   "cell_type": "markdown",
   "id": "ea4c6039-4850-4a57-becb-61e55c2c24ed",
   "metadata": {},
   "source": [
    "# train_test_split:-"
   ]
  },
  {
   "cell_type": "code",
   "execution_count": null,
   "id": "d5349f90-d600-401d-881d-7357b8903fa4",
   "metadata": {},
   "outputs": [],
   "source": [
    "**The train-test split allows simulating this experience by evaluating the models performance on unseen data. \n",
    "It helps in assessing how well the model generalizes to new data and prevents overfitting, \n",
    "which occurs when the model performs well on the training data but poorly on unseen data**"
   ]
  },
  {
   "cell_type": "code",
   "execution_count": 45,
   "id": "cacd1aab-0bc0-4636-bd54-8fd29cabcc49",
   "metadata": {},
   "outputs": [],
   "source": [
    "from sklearn.model_selection import train_test_split\n",
    "x_train,x_test,y_train,y_test=train_test_split(x,y,test_size=0.2,random_state=2)"
   ]
  },
  {
   "cell_type": "code",
   "execution_count": 46,
   "id": "a36473cc-0737-4d63-86a1-95f37a961d77",
   "metadata": {},
   "outputs": [
    {
     "data": {
      "text/html": [
       "<div>\n",
       "<style scoped>\n",
       "    .dataframe tbody tr th:only-of-type {\n",
       "        vertical-align: middle;\n",
       "    }\n",
       "\n",
       "    .dataframe tbody tr th {\n",
       "        vertical-align: top;\n",
       "    }\n",
       "\n",
       "    .dataframe thead th {\n",
       "        text-align: right;\n",
       "    }\n",
       "</style>\n",
       "<table border=\"1\" class=\"dataframe\">\n",
       "  <thead>\n",
       "    <tr style=\"text-align: right;\">\n",
       "      <th></th>\n",
       "      <th>Experience Years</th>\n",
       "    </tr>\n",
       "  </thead>\n",
       "  <tbody>\n",
       "    <tr>\n",
       "      <th>17</th>\n",
       "      <td>4.1</td>\n",
       "    </tr>\n",
       "    <tr>\n",
       "      <th>37</th>\n",
       "      <td>9.6</td>\n",
       "    </tr>\n",
       "    <tr>\n",
       "      <th>38</th>\n",
       "      <td>10.3</td>\n",
       "    </tr>\n",
       "    <tr>\n",
       "      <th>29</th>\n",
       "      <td>6.8</td>\n",
       "    </tr>\n",
       "    <tr>\n",
       "      <th>24</th>\n",
       "      <td>5.5</td>\n",
       "    </tr>\n",
       "  </tbody>\n",
       "</table>\n",
       "</div>"
      ],
      "text/plain": [
       "    Experience Years\n",
       "17               4.1\n",
       "37               9.6\n",
       "38              10.3\n",
       "29               6.8\n",
       "24               5.5"
      ]
     },
     "execution_count": 46,
     "metadata": {},
     "output_type": "execute_result"
    }
   ],
   "source": [
    "x_train.head()"
   ]
  },
  {
   "cell_type": "code",
   "execution_count": 47,
   "id": "6db81d2b-7c1c-44f5-891a-bcb8a552e094",
   "metadata": {},
   "outputs": [
    {
     "data": {
      "text/plain": [
       "27    91000\n",
       "9     54445\n",
       "14    63218\n",
       "0     39343\n",
       "2     46205\n",
       "Name: Salary, dtype: int64"
      ]
     },
     "execution_count": 47,
     "metadata": {},
     "output_type": "execute_result"
    }
   ],
   "source": [
    "y_test.head()"
   ]
  },
  {
   "cell_type": "markdown",
   "id": "180bc905",
   "metadata": {},
   "source": [
    "# sklearn linear_model:-"
   ]
  },
  {
   "cell_type": "code",
   "execution_count": null,
   "id": "6b6169a7-f595-4399-ad0b-9337ed9ffcd2",
   "metadata": {},
   "outputs": [],
   "source": [
    "#The sklearn.linear_model.LinearRegression() is used for linear regression\n",
    "#It analyzes the relationship between dependent and independent variables to predict the dependent variable based on the independent variable"
   ]
  },
  {
   "cell_type": "code",
   "execution_count": 48,
   "id": "8432f9e4-c7e6-4ba6-be04-23e587a029a0",
   "metadata": {},
   "outputs": [],
   "source": [
    "from sklearn.linear_model import LinearRegression"
   ]
  },
  {
   "cell_type": "code",
   "execution_count": 49,
   "id": "0bf5ba89-5b96-47a0-8ac7-633fbbf217a7",
   "metadata": {},
   "outputs": [],
   "source": [
    "lr=LinearRegression()"
   ]
  },
  {
   "cell_type": "markdown",
   "id": "eff3cd5c-ec88-4863-b768-ab32ec8bf1bb",
   "metadata": {},
   "source": [
    "# fit()\n",
    "1.The fit() is comes from the scikit learn actually it predicts the output from based on the input ..\n",
    "2.In this method is uses for making the prediction the output for actual target ..\n",
    "3.So the fit has  any 2 variables(x_train,x_test) to predict the result...."
   ]
  },
  {
   "cell_type": "code",
   "execution_count": 50,
   "id": "76d5382a-4731-49c7-ab03-8d6242d0fcaa",
   "metadata": {},
   "outputs": [
    {
     "data": {
      "text/plain": [
       "LinearRegression()"
      ]
     },
     "execution_count": 50,
     "metadata": {},
     "output_type": "execute_result"
    }
   ],
   "source": [
    "lr.fit(x_train,y_train)"
   ]
  },
  {
   "cell_type": "markdown",
   "id": "3449bb9a",
   "metadata": {},
   "source": [
    "#here the coef is generally a attribute which is used to predict the output of coefficient"
   ]
  },
  {
   "cell_type": "code",
   "execution_count": 51,
   "id": "25ddfacc-bdd9-4259-849f-f7b2d3554805",
   "metadata": {},
   "outputs": [
    {
     "data": {
      "text/plain": [
       "array([9629.89561636])"
      ]
     },
     "execution_count": 51,
     "metadata": {},
     "output_type": "execute_result"
    }
   ],
   "source": [
    "lr.coef_"
   ]
  },
  {
   "cell_type": "code",
   "execution_count": 59,
   "id": "49b16dd4-5450-4395-9605-260eba2505a9",
   "metadata": {},
   "outputs": [
    {
     "name": "stderr",
     "output_type": "stream",
     "text": [
      "C:\\Users\\saisr\\anaconda3\\lib\\site-packages\\sklearn\\base.py:450: UserWarning: X does not have valid feature names, but LinearRegression was fitted with feature names\n",
      "  warnings.warn(\n"
     ]
    },
    {
     "data": {
      "text/plain": [
       "array([74544.51174316])"
      ]
     },
     "execution_count": 59,
     "metadata": {},
     "output_type": "execute_result"
    }
   ],
   "source": [
    "lr.predict([[5.2]])"
   ]
  },
  {
   "cell_type": "code",
   "execution_count": 53,
   "id": "ba66e54d-7b1a-413a-afac-13c6c75eabdc",
   "metadata": {},
   "outputs": [
    {
     "data": {
      "text/plain": [
       "24469.054538114055"
      ]
     },
     "execution_count": 53,
     "metadata": {},
     "output_type": "execute_result"
    }
   ],
   "source": [
    "lr.intercept_"
   ]
  },
  {
   "cell_type": "markdown",
   "id": "790686c8-d96e-4178-8599-4a2fff025895",
   "metadata": {},
   "source": [
    "# scatter data analysis:-"
   ]
  },
  {
   "cell_type": "markdown",
   "id": "e6e61b86-5575-4a4a-a3ee-a357d4bf44ba",
   "metadata": {},
   "source": [
    "# data visualization:-"
   ]
  },
  {
   "cell_type": "code",
   "execution_count": null,
   "id": "1dc20219",
   "metadata": {},
   "outputs": [],
   "source": [
    "#We use the scatter plot for to predict the analysis of output \n",
    "#In below uses dots to represent values for two different numeric variables to accurate results..."
   ]
  },
  {
   "cell_type": "code",
   "execution_count": 55,
   "id": "6422afe4-77f3-49c8-891f-e4093867b4e9",
   "metadata": {},
   "outputs": [
    {
     "data": {
      "text/plain": [
       "Text(0, 0.5, 'Salary')"
      ]
     },
     "execution_count": 55,
     "metadata": {},
     "output_type": "execute_result"
    },
    {
     "data": {
      "image/png": "[encoded data removed]",
      "text/plain": [
       "<Figure size 640x480 with 1 Axes>"
      ]
     },
     "metadata": {},
     "output_type": "display_data"
    }
   ],
   "source": [
    "plt.scatter(m[\"Experience Years\"],m[\"Salary\"])\n",
    "plt.plot(x_train,lr.predict(x_train),color=\"red\")\n",
    "plt.xlabel(\"Experience Years\")\n",
    "plt.ylabel(\"Salary\")"
   ]
  },
  {
   "cell_type": "code",
   "execution_count": null,
   "id": "248b014e",
   "metadata": {},
   "outputs": [],
   "source": [
    "#in above we used perform plots the staright lines is uses as slope.."
   ]
  },
  {
   "cell_type": "markdown",
   "id": "baeed42e-134c-4738-87b7-db18cf36d4d4",
   "metadata": {},
   "source": [
    "# model evaluation:-"
   ]
  },
  {
   "cell_type": "code",
   "execution_count": null,
   "id": "05ea17f6-89d4-4b86-b609-911288d8ac8e",
   "metadata": {},
   "outputs": [],
   "source": [
    "# A metric used to measure the average absolute difference between the predicted and actual values in a regression problem.."
   ]
  },
  {
   "cell_type": "code",
   "execution_count": 56,
   "id": "53bf2e2f-792b-4ac0-9494-ab234971395e",
   "metadata": {},
   "outputs": [],
   "source": [
    "from sklearn.metrics import mean_absolute_error,mean_squared_error,r2_score"
   ]
  },
  {
   "cell_type": "code",
   "execution_count": 57,
   "id": "5f167aa5-f3dc-4c03-aa80-fc66eadcaeda",
   "metadata": {},
   "outputs": [],
   "source": [
    "y_pred=lr.predict(x_test)"
   ]
  },
  {
   "cell_type": "code",
   "execution_count": 58,
   "id": "5a355d46-c5b8-4fc8-a982-b1f05a3b79df",
   "metadata": {},
   "outputs": [
    {
     "data": {
      "text/plain": [
       "array([ 91000,  54445,  63218,  39343,  46205,  98273,  60200, 116969],\n",
       "      dtype=int64)"
      ]
     },
     "execution_count": 58,
     "metadata": {},
     "output_type": "execute_result"
    }
   ],
   "source": [
    "y_test.values"
   ]
  },
  {
   "cell_type": "markdown",
   "id": "9f7bcb7e",
   "metadata": {},
   "source": [
    "# summary:-"
   ]
  },
  {
   "cell_type": "code",
   "execution_count": 1,
   "id": "f4642443",
   "metadata": {},
   "outputs": [
    {
     "ename": "SyntaxError",
     "evalue": "invalid syntax (948150284.py, line 1)",
     "output_type": "error",
     "traceback": [
      "\u001b[1;36m  File \u001b[1;32m\"C:\\Users\\saisr\\AppData\\Local\\Temp\\ipykernel_19376\\948150284.py\"\u001b[1;36m, line \u001b[1;32m1\u001b[0m\n\u001b[1;33m    In afterall performing the tasks by using data visualization methods and machine learning tools In visualization we used some plots\u001b[0m\n\u001b[1;37m       ^\u001b[0m\n\u001b[1;31mSyntaxError\u001b[0m\u001b[1;31m:\u001b[0m invalid syntax\n"
     ]
    }
   ],
   "source": [
    "In afterall performing the tasks by using data visualization methods and machine learning tools In visualization we used some plots \n",
    "which is import from seaborn,pandas,numpy libraries and predicting the accurate output of the dataset..\n",
    "In datasets there are 2 types of data are there one is --)catagorical data which is string format;;\n",
    "2)numerical data I analyzed the dataset formation and then decide to check out the data in different related froms\n",
    "and perform actions.\n",
    "3)The plots are generally used for predictions of output in a fast way..\n",
    "#In machine learing:- i throughtly learn what is supervised,unsupervised and types of labeled data and unlabeled data.\n",
    "4)identify the formation of data and the  apply the mechanisms related here the data is in form of prediction analysis so it\n",
    "is linear regression.. \n",
    "5)so i used  based on some tools are sckit learn,fit,train-test_split,coeff,unique...\n",
    "to predict the accurate outputs..."
   ]
  },
  {
   "cell_type": "markdown",
   "id": "3f513365",
   "metadata": {},
   "source": [
    "# overview:-"
   ]
  },
  {
   "cell_type": "code",
   "execution_count": null,
   "id": "21ea8ac1",
   "metadata": {},
   "outputs": [],
   "source": [
    "**overall  data visualization is an integral part of the machine learning process, aiding in exploratory data analysis, model selection, feature selection, and model evaluation.\n",
    "It provides a visual understanding of the data, enabling data scientists to make informed decisions and effectively communicate results throughout the machine learning pipeline.\n"
   ]
  },
  {
   "cell_type": "code",
   "execution_count": null,
   "id": "5f338642",
   "metadata": {},
   "outputs": [],
   "source": [
    "##### THE END ####\n",
    "THANKING YOU....."
   ]
  }
 ],
 "metadata": {
  "kernelspec": {
   "display_name": "Python 3 (ipykernel)",
   "language": "python",
   "name": "python3"
  },
  "language_info": {
   "codemirror_mode": {
    "name": "ipython",
    "version": 3
   },
   "file_extension": ".py",
   "mimetype": "text/x-python",
   "name": "python",
   "nbconvert_exporter": "python",
   "pygments_lexer": "ipython3",
   "version": "3.9.13"
  }
 },
 "nbformat": 4,
 "nbformat_minor": 5
}
